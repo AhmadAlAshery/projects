{
  "nbformat": 4,
  "nbformat_minor": 0,
  "metadata": {
    "colab": {
      "provenance": [],
      "authorship_tag": "ABX9TyNWeNj+wDdry2gbtCfO/5w+",
      "include_colab_link": true
    },
    "kernelspec": {
      "name": "python3",
      "display_name": "Python 3"
    },
    "language_info": {
      "name": "python"
    }
  },
  "cells": [
    {
      "cell_type": "markdown",
      "metadata": {
        "id": "view-in-github",
        "colab_type": "text"
      },
      "source": [
        "<a href=\"https://colab.research.google.com/github/AhmadAlAshery/projects/blob/main/CoinSecondTrial.ipynb\" target=\"_parent\"><img src=\"https://colab.research.google.com/assets/colab-badge.svg\" alt=\"Open In Colab\"/></a>"
      ]
    },
    {
      "cell_type": "code",
      "execution_count": 18,
      "metadata": {
        "id": "HjpqqjOnqYQc"
      },
      "outputs": [],
      "source": [
        "import json \n",
        "from requests import Request, Session\n",
        "import pandas as pd\n",
        "import numpy as np\n"
      ]
    },
    {
      "cell_type": "code",
      "source": [
        "pip install html-table-parser-python3"
      ],
      "metadata": {
        "colab": {
          "base_uri": "https://localhost:8080/"
        },
        "id": "UfORw1eVqgv_",
        "outputId": "4b38fc3e-9d1f-4a82-9276-83820c97a720"
      },
      "execution_count": 19,
      "outputs": [
        {
          "output_type": "stream",
          "name": "stdout",
          "text": [
            "Looking in indexes: https://pypi.org/simple, https://us-python.pkg.dev/colab-wheels/public/simple/\n",
            "Requirement already satisfied: html-table-parser-python3 in /usr/local/lib/python3.7/dist-packages (0.2.0)\n"
          ]
        }
      ]
    },
    {
      "cell_type": "code",
      "source": [
        "import urllib.request\n",
        "from html_table_parser.parser import HTMLTableParser"
      ],
      "metadata": {
        "id": "Ie6T5Bifqgy6"
      },
      "execution_count": 20,
      "outputs": []
    },
    {
      "cell_type": "code",
      "source": [
        "url = \"https://coinmarketcap.com/currencies/chia-network/\""
      ],
      "metadata": {
        "id": "yqojJYpkqmhI"
      },
      "execution_count": 21,
      "outputs": []
    },
    {
      "cell_type": "code",
      "source": [
        "headers = {\n",
        "    \"Accepts\" : \"application/json\",\n",
        "    \"X-CMC_PRO_API_KEY\" : \"a6d1d75d-838e-4f58-b307-6b50b8eb3f62\"\n",
        "}"
      ],
      "metadata": {
        "id": "TkDYUV75qmoX"
      },
      "execution_count": 22,
      "outputs": []
    },
    {
      "cell_type": "code",
      "source": [
        "session = Session()\n",
        "session.headers.update(headers)\n",
        "response = session.get(url)"
      ],
      "metadata": {
        "id": "DFLfLyjQqpjS"
      },
      "execution_count": 23,
      "outputs": []
    },
    {
      "cell_type": "code",
      "source": [
        "p = HTMLTableParser()\n",
        "p.feed(response.text)"
      ],
      "metadata": {
        "id": "PJAWHP1JqqD9"
      },
      "execution_count": 24,
      "outputs": []
    },
    {
      "cell_type": "code",
      "source": [
        "df =[]\n",
        "for i in range(len(p.tables)):\n",
        "    df.append(pd.DataFrame(p.tables[i]))"
      ],
      "metadata": {
        "id": "6qywiD8pqqiW"
      },
      "execution_count": 25,
      "outputs": []
    },
    {
      "cell_type": "code",
      "source": [
        "df[0]"
      ],
      "metadata": {
        "colab": {
          "base_uri": "https://localhost:8080/",
          "height": 269
        },
        "id": "RUyjt0KkrMwc",
        "outputId": "9ac0dd9c-0f63-4f26-ffbe-98e5bcb53e0b"
      },
      "execution_count": 26,
      "outputs": [
        {
          "output_type": "execute_result",
          "data": {
            "text/plain": [
              "                     0                    1\n",
              "0           Chia Price               $31.68\n",
              "1     Price Change 24h       + $0.301 0.96%\n",
              "2   24h Low / 24h High      $31.15 / $31.99\n",
              "3   Trading Volume 24h  $5,779,249.37 1.82%\n",
              "4  Volume / Market Cap              0.03289\n",
              "5     Market Dominance               0.02 %\n",
              "6          Market Rank                 #153"
            ],
            "text/html": [
              "\n",
              "  <div id=\"df-3b2d5a04-b560-4286-a6f7-37818ecfbdda\">\n",
              "    <div class=\"colab-df-container\">\n",
              "      <div>\n",
              "<style scoped>\n",
              "    .dataframe tbody tr th:only-of-type {\n",
              "        vertical-align: middle;\n",
              "    }\n",
              "\n",
              "    .dataframe tbody tr th {\n",
              "        vertical-align: top;\n",
              "    }\n",
              "\n",
              "    .dataframe thead th {\n",
              "        text-align: right;\n",
              "    }\n",
              "</style>\n",
              "<table border=\"1\" class=\"dataframe\">\n",
              "  <thead>\n",
              "    <tr style=\"text-align: right;\">\n",
              "      <th></th>\n",
              "      <th>0</th>\n",
              "      <th>1</th>\n",
              "    </tr>\n",
              "  </thead>\n",
              "  <tbody>\n",
              "    <tr>\n",
              "      <th>0</th>\n",
              "      <td>Chia Price</td>\n",
              "      <td>$31.68</td>\n",
              "    </tr>\n",
              "    <tr>\n",
              "      <th>1</th>\n",
              "      <td>Price Change 24h</td>\n",
              "      <td>+ $0.301 0.96%</td>\n",
              "    </tr>\n",
              "    <tr>\n",
              "      <th>2</th>\n",
              "      <td>24h Low / 24h High</td>\n",
              "      <td>$31.15 / $31.99</td>\n",
              "    </tr>\n",
              "    <tr>\n",
              "      <th>3</th>\n",
              "      <td>Trading Volume 24h</td>\n",
              "      <td>$5,779,249.37 1.82%</td>\n",
              "    </tr>\n",
              "    <tr>\n",
              "      <th>4</th>\n",
              "      <td>Volume / Market Cap</td>\n",
              "      <td>0.03289</td>\n",
              "    </tr>\n",
              "    <tr>\n",
              "      <th>5</th>\n",
              "      <td>Market Dominance</td>\n",
              "      <td>0.02 %</td>\n",
              "    </tr>\n",
              "    <tr>\n",
              "      <th>6</th>\n",
              "      <td>Market Rank</td>\n",
              "      <td>#153</td>\n",
              "    </tr>\n",
              "  </tbody>\n",
              "</table>\n",
              "</div>\n",
              "      <button class=\"colab-df-convert\" onclick=\"convertToInteractive('df-3b2d5a04-b560-4286-a6f7-37818ecfbdda')\"\n",
              "              title=\"Convert this dataframe to an interactive table.\"\n",
              "              style=\"display:none;\">\n",
              "        \n",
              "  <svg xmlns=\"http://www.w3.org/2000/svg\" height=\"24px\"viewBox=\"0 0 24 24\"\n",
              "       width=\"24px\">\n",
              "    <path d=\"M0 0h24v24H0V0z\" fill=\"none\"/>\n",
              "    <path d=\"M18.56 5.44l.94 2.06.94-2.06 2.06-.94-2.06-.94-.94-2.06-.94 2.06-2.06.94zm-11 1L8.5 8.5l.94-2.06 2.06-.94-2.06-.94L8.5 2.5l-.94 2.06-2.06.94zm10 10l.94 2.06.94-2.06 2.06-.94-2.06-.94-.94-2.06-.94 2.06-2.06.94z\"/><path d=\"M17.41 7.96l-1.37-1.37c-.4-.4-.92-.59-1.43-.59-.52 0-1.04.2-1.43.59L10.3 9.45l-7.72 7.72c-.78.78-.78 2.05 0 2.83L4 21.41c.39.39.9.59 1.41.59.51 0 1.02-.2 1.41-.59l7.78-7.78 2.81-2.81c.8-.78.8-2.07 0-2.86zM5.41 20L4 18.59l7.72-7.72 1.47 1.35L5.41 20z\"/>\n",
              "  </svg>\n",
              "      </button>\n",
              "      \n",
              "  <style>\n",
              "    .colab-df-container {\n",
              "      display:flex;\n",
              "      flex-wrap:wrap;\n",
              "      gap: 12px;\n",
              "    }\n",
              "\n",
              "    .colab-df-convert {\n",
              "      background-color: #E8F0FE;\n",
              "      border: none;\n",
              "      border-radius: 50%;\n",
              "      cursor: pointer;\n",
              "      display: none;\n",
              "      fill: #1967D2;\n",
              "      height: 32px;\n",
              "      padding: 0 0 0 0;\n",
              "      width: 32px;\n",
              "    }\n",
              "\n",
              "    .colab-df-convert:hover {\n",
              "      background-color: #E2EBFA;\n",
              "      box-shadow: 0px 1px 2px rgba(60, 64, 67, 0.3), 0px 1px 3px 1px rgba(60, 64, 67, 0.15);\n",
              "      fill: #174EA6;\n",
              "    }\n",
              "\n",
              "    [theme=dark] .colab-df-convert {\n",
              "      background-color: #3B4455;\n",
              "      fill: #D2E3FC;\n",
              "    }\n",
              "\n",
              "    [theme=dark] .colab-df-convert:hover {\n",
              "      background-color: #434B5C;\n",
              "      box-shadow: 0px 1px 3px 1px rgba(0, 0, 0, 0.15);\n",
              "      filter: drop-shadow(0px 1px 2px rgba(0, 0, 0, 0.3));\n",
              "      fill: #FFFFFF;\n",
              "    }\n",
              "  </style>\n",
              "\n",
              "      <script>\n",
              "        const buttonEl =\n",
              "          document.querySelector('#df-3b2d5a04-b560-4286-a6f7-37818ecfbdda button.colab-df-convert');\n",
              "        buttonEl.style.display =\n",
              "          google.colab.kernel.accessAllowed ? 'block' : 'none';\n",
              "\n",
              "        async function convertToInteractive(key) {\n",
              "          const element = document.querySelector('#df-3b2d5a04-b560-4286-a6f7-37818ecfbdda');\n",
              "          const dataTable =\n",
              "            await google.colab.kernel.invokeFunction('convertToInteractive',\n",
              "                                                     [key], {});\n",
              "          if (!dataTable) return;\n",
              "\n",
              "          const docLinkHtml = 'Like what you see? Visit the ' +\n",
              "            '<a target=\"_blank\" href=https://colab.research.google.com/notebooks/data_table.ipynb>data table notebook</a>'\n",
              "            + ' to learn more about interactive tables.';\n",
              "          element.innerHTML = '';\n",
              "          dataTable['output_type'] = 'display_data';\n",
              "          await google.colab.output.renderOutput(dataTable, element);\n",
              "          const docLink = document.createElement('div');\n",
              "          docLink.innerHTML = docLinkHtml;\n",
              "          element.appendChild(docLink);\n",
              "        }\n",
              "      </script>\n",
              "    </div>\n",
              "  </div>\n",
              "  "
            ]
          },
          "metadata": {},
          "execution_count": 26
        }
      ]
    },
    {
      "cell_type": "code",
      "source": [
        "(df[0].values[1][1].split(' ')[0]+df[0].values[1][1].split(' ')[1].replace('$', '') if df[0].values[1][1].split(' ')[0] == '-' or df[0].values[1][1].split(' ')[0] == '+' else df[0].values[1][1].split(' ')[1].replace('$', ''))"
      ],
      "metadata": {
        "colab": {
          "base_uri": "https://localhost:8080/",
          "height": 35
        },
        "id": "4l_fRir0r4rV",
        "outputId": "35514026-bac5-466f-f1f8-cb3911a5b0c9"
      },
      "execution_count": 27,
      "outputs": [
        {
          "output_type": "execute_result",
          "data": {
            "text/plain": [
              "'+0.301'"
            ],
            "application/vnd.google.colaboratory.intrinsic+json": {
              "type": "string"
            }
          },
          "metadata": {},
          "execution_count": 27
        }
      ]
    },
    {
      "cell_type": "code",
      "source": [
        "df[0].values[1][1].split(' ')"
      ],
      "metadata": {
        "colab": {
          "base_uri": "https://localhost:8080/"
        },
        "id": "ZWV00VFTr125",
        "outputId": "6eb13692-f85d-45ec-e814-71c80f4c000d"
      },
      "execution_count": 28,
      "outputs": [
        {
          "output_type": "execute_result",
          "data": {
            "text/plain": [
              "['+', '$0.301', '0.96%']"
            ]
          },
          "metadata": {},
          "execution_count": 28
        }
      ]
    },
    {
      "cell_type": "code",
      "source": [
        "df[0].values[1][1].split(' ')[1].replace('$', '')"
      ],
      "metadata": {
        "colab": {
          "base_uri": "https://localhost:8080/",
          "height": 35
        },
        "id": "YIfTmSyFr-dY",
        "outputId": "086fd4e6-32b6-42b2-fefd-ea17bbc3863e"
      },
      "execution_count": 29,
      "outputs": [
        {
          "output_type": "execute_result",
          "data": {
            "text/plain": [
              "'0.301'"
            ],
            "application/vnd.google.colaboratory.intrinsic+json": {
              "type": "string"
            }
          },
          "metadata": {},
          "execution_count": 29
        }
      ]
    },
    {
      "cell_type": "code",
      "source": [
        "  \n",
        "c ={}\n",
        "c[df[0].values[0][0] ]= float(df[0].values[0][1].replace('$', ''))\n",
        "c[df[0].values[4][0].split('/')[1]+'(%)'] = float(df[1].values[0][1].split('.')[1][2:] + '.' + df[1].values[0][1].split('.')[2][:-1])\n",
        "c[df[0].values[4][0].split('/')[1]+'(in Dollar)' ]= float(df[1].values[0][1].split('.')[0][1:].replace(',', '')+ '.' +df[1].values[0][1].split('.')[1][:2])\n",
        "c[df[0].values[5][0]] = df[0].values[5][1]\n",
        "c[df[0].values[1][0][:-3] + '(in Dollar)']= float(df[0].values[1][1].split(' ')[0]+df[0].values[1][1].split(' ')[1].replace('$', '') if df[0].values[1][1].split(' ')[0] == '-'  or df[0].values[1][1].split(' ')[0] == '+' else df[0].values[1][1].split(' ')[1].replace('$', ''))\n",
        "c[df[0].values[1][0][:-3] + '(%)'] = df[0].values[1][1][-5:]\n",
        "c[df[0].values[2][0].split('/')[0] +'price']= float(df[0].values[2][1].split('/')[0][1:].replace(',', ''))\n",
        "c[df[0].values[2][0].split('/')[1] +'price']= float(df[0].values[2][1].split('/')[1][2:].replace(',', ''))\n",
        "c[df[0].values[3][0][:-3] + '(in Dollar)'] = float((df[0].values[3][1].split('.')[0][1:] + '.' + df[0].values[3][1].split('.')[1][:2]).replace(',', ''))\n",
        "c[df[0].values[3][0][:-3] + '(%)']= float(df[0].values[3][1].split('.')[1][2:] + '.' + df[0].values[3][1].split('.')[2][:-1])\n",
        "c[df[0].values[4][0].split('/')[0]]= df[0].values[4][1]\n",
        "c[df[2].values[0][0][:-6]]= float(df[2].values[0][1].split('/')[0][1:].replace(',', ''))\n",
        "c[df[2].values[0][0][:-10] + 'high']= float(df[2].values[0][1].split('/')[1][2:].replace(',', ''))\n",
        "c[df[2].values[2][0]]= df[2].values[2][1]\n",
        "c[df[0].values[6][0]]= int(df[0].values[6][1][1:])\n",
        "    "
      ],
      "metadata": {
        "id": "26q2yal4qqo5"
      },
      "execution_count": 30,
      "outputs": []
    },
    {
      "cell_type": "code",
      "source": [
        "tf = pd.DataFrame.from_dict(c, orient='index').reset_index()"
      ],
      "metadata": {
        "id": "fR3UwWgzrJKc"
      },
      "execution_count": 31,
      "outputs": []
    },
    {
      "cell_type": "code",
      "source": [
        "tf = tf.T\n",
        "tf.columns = tf.values[0,:]\n",
        "tf.drop('index', axis=0, inplace=True)\n",
        "tf.insert(loc=1, column='', value='')"
      ],
      "metadata": {
        "id": "SBThOKVxvGlA"
      },
      "execution_count": 32,
      "outputs": []
    },
    {
      "cell_type": "code",
      "source": [
        "tf"
      ],
      "metadata": {
        "colab": {
          "base_uri": "https://localhost:8080/",
          "height": 177
        },
        "id": "KQBCFGhKvIYH",
        "outputId": "47a44bd7-1e45-4a4a-9d9a-4d5d13327671"
      },
      "execution_count": 33,
      "outputs": [
        {
          "output_type": "execute_result",
          "data": {
            "text/plain": [
              "  Chia Price    Market Cap(%)  Market Cap(in Dollar) Market Dominance  \\\n",
              "0      31.68             1.13           175735068.18           0.02 %   \n",
              "\n",
              "  Price Change (in Dollar) Price Change (%) 24h Low price  24h Highprice  \\\n",
              "0                    0.301            0.96%         31.15          31.99   \n",
              "\n",
              "  Trading Volume (in Dollar) Trading Volume (%)  Volume  Yesterday s Low   \\\n",
              "0                 5779249.37               1.82  0.03289             31.1   \n",
              "\n",
              "  Yesterday s high Yesterday s Change Market Rank  \n",
              "0            32.31              2.36%         153  "
            ],
            "text/html": [
              "\n",
              "  <div id=\"df-f20429ac-2fb0-478a-9d2a-5c4beccd2b84\">\n",
              "    <div class=\"colab-df-container\">\n",
              "      <div>\n",
              "<style scoped>\n",
              "    .dataframe tbody tr th:only-of-type {\n",
              "        vertical-align: middle;\n",
              "    }\n",
              "\n",
              "    .dataframe tbody tr th {\n",
              "        vertical-align: top;\n",
              "    }\n",
              "\n",
              "    .dataframe thead th {\n",
              "        text-align: right;\n",
              "    }\n",
              "</style>\n",
              "<table border=\"1\" class=\"dataframe\">\n",
              "  <thead>\n",
              "    <tr style=\"text-align: right;\">\n",
              "      <th></th>\n",
              "      <th>Chia Price</th>\n",
              "      <th></th>\n",
              "      <th>Market Cap(%)</th>\n",
              "      <th>Market Cap(in Dollar)</th>\n",
              "      <th>Market Dominance</th>\n",
              "      <th>Price Change (in Dollar)</th>\n",
              "      <th>Price Change (%)</th>\n",
              "      <th>24h Low price</th>\n",
              "      <th>24h Highprice</th>\n",
              "      <th>Trading Volume (in Dollar)</th>\n",
              "      <th>Trading Volume (%)</th>\n",
              "      <th>Volume</th>\n",
              "      <th>Yesterday s Low</th>\n",
              "      <th>Yesterday s high</th>\n",
              "      <th>Yesterday s Change</th>\n",
              "      <th>Market Rank</th>\n",
              "    </tr>\n",
              "  </thead>\n",
              "  <tbody>\n",
              "    <tr>\n",
              "      <th>0</th>\n",
              "      <td>31.68</td>\n",
              "      <td></td>\n",
              "      <td>1.13</td>\n",
              "      <td>175735068.18</td>\n",
              "      <td>0.02 %</td>\n",
              "      <td>0.301</td>\n",
              "      <td>0.96%</td>\n",
              "      <td>31.15</td>\n",
              "      <td>31.99</td>\n",
              "      <td>5779249.37</td>\n",
              "      <td>1.82</td>\n",
              "      <td>0.03289</td>\n",
              "      <td>31.1</td>\n",
              "      <td>32.31</td>\n",
              "      <td>2.36%</td>\n",
              "      <td>153</td>\n",
              "    </tr>\n",
              "  </tbody>\n",
              "</table>\n",
              "</div>\n",
              "      <button class=\"colab-df-convert\" onclick=\"convertToInteractive('df-f20429ac-2fb0-478a-9d2a-5c4beccd2b84')\"\n",
              "              title=\"Convert this dataframe to an interactive table.\"\n",
              "              style=\"display:none;\">\n",
              "        \n",
              "  <svg xmlns=\"http://www.w3.org/2000/svg\" height=\"24px\"viewBox=\"0 0 24 24\"\n",
              "       width=\"24px\">\n",
              "    <path d=\"M0 0h24v24H0V0z\" fill=\"none\"/>\n",
              "    <path d=\"M18.56 5.44l.94 2.06.94-2.06 2.06-.94-2.06-.94-.94-2.06-.94 2.06-2.06.94zm-11 1L8.5 8.5l.94-2.06 2.06-.94-2.06-.94L8.5 2.5l-.94 2.06-2.06.94zm10 10l.94 2.06.94-2.06 2.06-.94-2.06-.94-.94-2.06-.94 2.06-2.06.94z\"/><path d=\"M17.41 7.96l-1.37-1.37c-.4-.4-.92-.59-1.43-.59-.52 0-1.04.2-1.43.59L10.3 9.45l-7.72 7.72c-.78.78-.78 2.05 0 2.83L4 21.41c.39.39.9.59 1.41.59.51 0 1.02-.2 1.41-.59l7.78-7.78 2.81-2.81c.8-.78.8-2.07 0-2.86zM5.41 20L4 18.59l7.72-7.72 1.47 1.35L5.41 20z\"/>\n",
              "  </svg>\n",
              "      </button>\n",
              "      \n",
              "  <style>\n",
              "    .colab-df-container {\n",
              "      display:flex;\n",
              "      flex-wrap:wrap;\n",
              "      gap: 12px;\n",
              "    }\n",
              "\n",
              "    .colab-df-convert {\n",
              "      background-color: #E8F0FE;\n",
              "      border: none;\n",
              "      border-radius: 50%;\n",
              "      cursor: pointer;\n",
              "      display: none;\n",
              "      fill: #1967D2;\n",
              "      height: 32px;\n",
              "      padding: 0 0 0 0;\n",
              "      width: 32px;\n",
              "    }\n",
              "\n",
              "    .colab-df-convert:hover {\n",
              "      background-color: #E2EBFA;\n",
              "      box-shadow: 0px 1px 2px rgba(60, 64, 67, 0.3), 0px 1px 3px 1px rgba(60, 64, 67, 0.15);\n",
              "      fill: #174EA6;\n",
              "    }\n",
              "\n",
              "    [theme=dark] .colab-df-convert {\n",
              "      background-color: #3B4455;\n",
              "      fill: #D2E3FC;\n",
              "    }\n",
              "\n",
              "    [theme=dark] .colab-df-convert:hover {\n",
              "      background-color: #434B5C;\n",
              "      box-shadow: 0px 1px 3px 1px rgba(0, 0, 0, 0.15);\n",
              "      filter: drop-shadow(0px 1px 2px rgba(0, 0, 0, 0.3));\n",
              "      fill: #FFFFFF;\n",
              "    }\n",
              "  </style>\n",
              "\n",
              "      <script>\n",
              "        const buttonEl =\n",
              "          document.querySelector('#df-f20429ac-2fb0-478a-9d2a-5c4beccd2b84 button.colab-df-convert');\n",
              "        buttonEl.style.display =\n",
              "          google.colab.kernel.accessAllowed ? 'block' : 'none';\n",
              "\n",
              "        async function convertToInteractive(key) {\n",
              "          const element = document.querySelector('#df-f20429ac-2fb0-478a-9d2a-5c4beccd2b84');\n",
              "          const dataTable =\n",
              "            await google.colab.kernel.invokeFunction('convertToInteractive',\n",
              "                                                     [key], {});\n",
              "          if (!dataTable) return;\n",
              "\n",
              "          const docLinkHtml = 'Like what you see? Visit the ' +\n",
              "            '<a target=\"_blank\" href=https://colab.research.google.com/notebooks/data_table.ipynb>data table notebook</a>'\n",
              "            + ' to learn more about interactive tables.';\n",
              "          element.innerHTML = '';\n",
              "          dataTable['output_type'] = 'display_data';\n",
              "          await google.colab.output.renderOutput(dataTable, element);\n",
              "          const docLink = document.createElement('div');\n",
              "          docLink.innerHTML = docLinkHtml;\n",
              "          element.appendChild(docLink);\n",
              "        }\n",
              "      </script>\n",
              "    </div>\n",
              "  </div>\n",
              "  "
            ]
          },
          "metadata": {},
          "execution_count": 33
        }
      ]
    },
    {
      "cell_type": "code",
      "source": [
        "with pd.ExcelWriter('agraj.xlsx') as writer:\n",
        "    tf.to_excel(writer, sheet_name='sheet1', index=False, startrow=2 , startcol=2)"
      ],
      "metadata": {
        "id": "6QRyRny1vJtq"
      },
      "execution_count": 34,
      "outputs": []
    },
    {
      "cell_type": "code",
      "source": [],
      "metadata": {
        "id": "2LG87lxAqquY"
      },
      "execution_count": 34,
      "outputs": []
    }
  ]
}