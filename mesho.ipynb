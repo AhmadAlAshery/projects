{
 "cells": [
  {
   "cell_type": "code",
   "execution_count": 2,
   "metadata": {},
   "outputs": [],
   "source": [
    "import numpy as np \n",
    "import pandas as pd \n",
    "import matplotlib.pyplot as plt\n",
    "from bs4 import BeautifulSoup\n",
    "import requests"
   ]
  },
  {
   "cell_type": "code",
   "execution_count": 8,
   "metadata": {},
   "outputs": [],
   "source": [
    "html = 'https://meesho.com/women-clothing/pl/hizpr'\n",
    "response = requests.get(html).text"
   ]
  },
  {
   "cell_type": "code",
   "execution_count": 13,
   "metadata": {},
   "outputs": [],
   "source": [
    "soup = BeautifulSoup(response,'lxml')"
   ]
  },
  {
   "cell_type": "code",
   "execution_count": 28,
   "metadata": {},
   "outputs": [],
   "source": [
    "name = soup.find_all('p', class_=\"Text__StyledText-sc-oo0kvp-0 bWSOET NewProductCard__ProductTitle_Desktop-sc-j0e7tu-4 cQhePS NewProductCard__ProductTitle_Desktop-sc-j0e7tu-4 cQhePS\")"
   ]
  },
  {
   "cell_type": "code",
   "execution_count": 33,
   "metadata": {},
   "outputs": [],
   "source": [
    "names = []\n",
    "for i in name:\n",
    "    names.append(i.text)"
   ]
  },
  {
   "cell_type": "code",
   "execution_count": 35,
   "metadata": {},
   "outputs": [],
   "source": [
    "price = soup.find_all('h5')"
   ]
  },
  {
   "cell_type": "code",
   "execution_count": 37,
   "metadata": {},
   "outputs": [],
   "source": [
    "prices = []\n",
    "for i in price:\n",
    "    prices.append(i.text)"
   ]
  },
  {
   "cell_type": "code",
   "execution_count": 40,
   "metadata": {},
   "outputs": [],
   "source": [
    "for i in range(len(prices)):\n",
    "    prices[i] = prices[i].replace('₹','')\n",
    "    prices[i] = int(prices[i])"
   ]
  },
  {
   "cell_type": "code",
   "execution_count": 42,
   "metadata": {},
   "outputs": [],
   "source": [
    "price_before_disc = soup.find_all('p', class_=\"Text__StyledText-sc-oo0kvp-0 hpXvds Paragraph__StyledParagraphBody2StrikeThrough-sc-69qp0d-0 hEkmRy Paragraph__StyledParagraphBody2StrikeThrough-sc-69qp0d-0 hEkmRy\")"
   ]
  },
  {
   "cell_type": "code",
   "execution_count": 44,
   "metadata": {},
   "outputs": [],
   "source": [
    "prices_before_disc = []\n",
    "for i in price_before_disc:\n",
    "    prices_before_disc.append(i.text)"
   ]
  },
  {
   "cell_type": "code",
   "execution_count": 45,
   "metadata": {},
   "outputs": [],
   "source": [
    "for i in range(len(prices_before_disc)):\n",
    "    prices_before_disc[i] = prices_before_disc[i].replace('₹','')\n",
    "    prices_before_disc[i] = int(prices_before_disc[i])"
   ]
  },
  {
   "cell_type": "code",
   "execution_count": 47,
   "metadata": {},
   "outputs": [],
   "source": [
    "discount = soup.find_all('div', class_=\"Card__BaseCard-sc-b3n78k-0 iLPHgK NewProductCard__PriceRow-sc-j0e7tu-5 eyya-Dr NewProductCard__PriceRow-sc-j0e7tu-5 eyya-Dr\")"
   ]
  },
  {
   "cell_type": "code",
   "execution_count": 49,
   "metadata": {},
   "outputs": [],
   "source": [
    "discounts = []\n",
    "for i in discount:\n",
    "    discounts.append(i.span.text)"
   ]
  },
  {
   "cell_type": "code",
   "execution_count": 51,
   "metadata": {},
   "outputs": [],
   "source": [
    "list_of_lists = [names, prices, prices_before_disc, discounts]"
   ]
  },
  {
   "cell_type": "code",
   "execution_count": 63,
   "metadata": {},
   "outputs": [],
   "source": [
    "df = pd.DataFrame(list_of_lists).T\n",
    "df.columns= ['Name', 'Price', 'Before', 'Disc']"
   ]
  },
  {
   "cell_type": "code",
   "execution_count": 64,
   "metadata": {},
   "outputs": [
    {
     "data": {
      "text/html": [
       "<div>\n",
       "<style scoped>\n",
       "    .dataframe tbody tr th:only-of-type {\n",
       "        vertical-align: middle;\n",
       "    }\n",
       "\n",
       "    .dataframe tbody tr th {\n",
       "        vertical-align: top;\n",
       "    }\n",
       "\n",
       "    .dataframe thead th {\n",
       "        text-align: right;\n",
       "    }\n",
       "</style>\n",
       "<table border=\"1\" class=\"dataframe\">\n",
       "  <thead>\n",
       "    <tr style=\"text-align: right;\">\n",
       "      <th></th>\n",
       "      <th>Name</th>\n",
       "      <th>Price</th>\n",
       "      <th>Before</th>\n",
       "      <th>Disc</th>\n",
       "    </tr>\n",
       "  </thead>\n",
       "  <tbody>\n",
       "    <tr>\n",
       "      <th>0</th>\n",
       "      <td>Versatile Attractive Women Dupattas</td>\n",
       "      <td>207</td>\n",
       "      <td>243</td>\n",
       "      <td>15% off</td>\n",
       "    </tr>\n",
       "    <tr>\n",
       "      <th>1</th>\n",
       "      <td>Classic Women Blouses</td>\n",
       "      <td>274</td>\n",
       "      <td>322</td>\n",
       "      <td>15% off</td>\n",
       "    </tr>\n",
       "    <tr>\n",
       "      <th>2</th>\n",
       "      <td>Myra Graceful Tops &amp; Tunics Vol 1</td>\n",
       "      <td>171</td>\n",
       "      <td>201</td>\n",
       "      <td>15% off</td>\n",
       "    </tr>\n",
       "    <tr>\n",
       "      <th>3</th>\n",
       "      <td>Trendy Women Lehenga</td>\n",
       "      <td>1466</td>\n",
       "      <td>1516</td>\n",
       "      <td>3% off</td>\n",
       "    </tr>\n",
       "    <tr>\n",
       "      <th>4</th>\n",
       "      <td>Charvi Pretty Salwar Suits &amp; Dress Materials</td>\n",
       "      <td>704</td>\n",
       "      <td>754</td>\n",
       "      <td>7% off</td>\n",
       "    </tr>\n",
       "    <tr>\n",
       "      <th>5</th>\n",
       "      <td>Classic Trendy Shape Wear Vol 6</td>\n",
       "      <td>341</td>\n",
       "      <td>391</td>\n",
       "      <td>13% off</td>\n",
       "    </tr>\n",
       "    <tr>\n",
       "      <th>6</th>\n",
       "      <td>Abhisarika Voguish Women Lehenga</td>\n",
       "      <td>1704</td>\n",
       "      <td>1754</td>\n",
       "      <td>3% off</td>\n",
       "    </tr>\n",
       "    <tr>\n",
       "      <th>7</th>\n",
       "      <td>Fancy Women Shapewear</td>\n",
       "      <td>289</td>\n",
       "      <td>339</td>\n",
       "      <td>15% off</td>\n",
       "    </tr>\n",
       "    <tr>\n",
       "      <th>8</th>\n",
       "      <td>Kashvi Graceful Salwar Suits &amp; Dress Materials</td>\n",
       "      <td>704</td>\n",
       "      <td>754</td>\n",
       "      <td>7% off</td>\n",
       "    </tr>\n",
       "    <tr>\n",
       "      <th>9</th>\n",
       "      <td>Jivika Drishya Kurtis</td>\n",
       "      <td>267</td>\n",
       "      <td>314</td>\n",
       "      <td>15% off</td>\n",
       "    </tr>\n",
       "    <tr>\n",
       "      <th>10</th>\n",
       "      <td>Banita Refined Sarees</td>\n",
       "      <td>506</td>\n",
       "      <td>556</td>\n",
       "      <td>9% off</td>\n",
       "    </tr>\n",
       "    <tr>\n",
       "      <th>11</th>\n",
       "      <td>Elegant Modern Women Leggings</td>\n",
       "      <td>538</td>\n",
       "      <td>588</td>\n",
       "      <td>9% off</td>\n",
       "    </tr>\n",
       "    <tr>\n",
       "      <th>12</th>\n",
       "      <td>Abhisarika Drishya Kurtis</td>\n",
       "      <td>163</td>\n",
       "      <td>191</td>\n",
       "      <td>15% off</td>\n",
       "    </tr>\n",
       "    <tr>\n",
       "      <th>13</th>\n",
       "      <td>Myra Ensemble Women Kurta Sets</td>\n",
       "      <td>418</td>\n",
       "      <td>468</td>\n",
       "      <td>11% off</td>\n",
       "    </tr>\n",
       "    <tr>\n",
       "      <th>14</th>\n",
       "      <td>Aishani Fabulous Sarees</td>\n",
       "      <td>712</td>\n",
       "      <td>762</td>\n",
       "      <td>7% off</td>\n",
       "    </tr>\n",
       "    <tr>\n",
       "      <th>15</th>\n",
       "      <td>Trendy Women Blouses</td>\n",
       "      <td>450</td>\n",
       "      <td>500</td>\n",
       "      <td>10% off</td>\n",
       "    </tr>\n",
       "    <tr>\n",
       "      <th>16</th>\n",
       "      <td>Trendy Attractive Saree</td>\n",
       "      <td>1674</td>\n",
       "      <td>1724</td>\n",
       "      <td>3% off</td>\n",
       "    </tr>\n",
       "    <tr>\n",
       "      <th>17</th>\n",
       "      <td>Trendy Superior suits Fabrics</td>\n",
       "      <td>673</td>\n",
       "      <td>723</td>\n",
       "      <td>7% off</td>\n",
       "    </tr>\n",
       "    <tr>\n",
       "      <th>18</th>\n",
       "      <td>Comfy Women Shapewear</td>\n",
       "      <td>151</td>\n",
       "      <td>177</td>\n",
       "      <td>15% off</td>\n",
       "    </tr>\n",
       "    <tr>\n",
       "      <th>19</th>\n",
       "      <td>Aagam Petite Kurtis</td>\n",
       "      <td>359</td>\n",
       "      <td>409</td>\n",
       "      <td>12% off</td>\n",
       "    </tr>\n",
       "  </tbody>\n",
       "</table>\n",
       "</div>"
      ],
      "text/plain": [
       "                                              Name Price Before     Disc\n",
       "0              Versatile Attractive Women Dupattas   207    243  15% off\n",
       "1                            Classic Women Blouses   274    322  15% off\n",
       "2                Myra Graceful Tops & Tunics Vol 1   171    201  15% off\n",
       "3                             Trendy Women Lehenga  1466   1516   3% off\n",
       "4     Charvi Pretty Salwar Suits & Dress Materials   704    754   7% off\n",
       "5                  Classic Trendy Shape Wear Vol 6   341    391  13% off\n",
       "6                 Abhisarika Voguish Women Lehenga  1704   1754   3% off\n",
       "7                            Fancy Women Shapewear   289    339  15% off\n",
       "8   Kashvi Graceful Salwar Suits & Dress Materials   704    754   7% off\n",
       "9                            Jivika Drishya Kurtis   267    314  15% off\n",
       "10                           Banita Refined Sarees   506    556   9% off\n",
       "11                   Elegant Modern Women Leggings   538    588   9% off\n",
       "12                       Abhisarika Drishya Kurtis   163    191  15% off\n",
       "13                  Myra Ensemble Women Kurta Sets   418    468  11% off\n",
       "14                         Aishani Fabulous Sarees   712    762   7% off\n",
       "15                            Trendy Women Blouses   450    500  10% off\n",
       "16                         Trendy Attractive Saree  1674   1724   3% off\n",
       "17                   Trendy Superior suits Fabrics   673    723   7% off\n",
       "18                           Comfy Women Shapewear   151    177  15% off\n",
       "19                             Aagam Petite Kurtis   359    409  12% off"
      ]
     },
     "execution_count": 64,
     "metadata": {},
     "output_type": "execute_result"
    }
   ],
   "source": [
    "df"
   ]
  }
 ],
 "metadata": {
  "interpreter": {
   "hash": "162cd733ca851cc70f6e75e6188b9bfd3006eac93b129210496a9ef917dca4c9"
  },
  "kernelspec": {
   "display_name": "Python 3.9.7 ('base')",
   "language": "python",
   "name": "python3"
  },
  "language_info": {
   "codemirror_mode": {
    "name": "ipython",
    "version": 3
   },
   "file_extension": ".py",
   "mimetype": "text/x-python",
   "name": "python",
   "nbconvert_exporter": "python",
   "pygments_lexer": "ipython3",
   "version": "3.9.7"
  },
  "orig_nbformat": 4
 },
 "nbformat": 4,
 "nbformat_minor": 2
}
