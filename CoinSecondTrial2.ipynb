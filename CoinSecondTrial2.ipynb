{
  "nbformat": 4,
  "nbformat_minor": 0,
  "metadata": {
    "colab": {
      "provenance": [],
      "collapsed_sections": [],
      "include_colab_link": true
    },
    "kernelspec": {
      "name": "python3",
      "display_name": "Python 3"
    },
    "language_info": {
      "name": "python"
    }
  },
  "cells": [
    {
      "cell_type": "markdown",
      "metadata": {
        "id": "view-in-github",
        "colab_type": "text"
      },
      "source": [
        "<a href=\"https://colab.research.google.com/github/AhmadAlAshery/projects/blob/main/CoinSecondTrial2.ipynb\" target=\"_parent\"><img src=\"https://colab.research.google.com/assets/colab-badge.svg\" alt=\"Open In Colab\"/></a>"
      ]
    },
    {
      "cell_type": "code",
      "execution_count": null,
      "metadata": {
        "id": "HjpqqjOnqYQc"
      },
      "outputs": [],
      "source": [
        "import json \n",
        "from requests import Request, Session\n",
        "import pandas as pd\n",
        "import numpy as np\n"
      ]
    },
    {
      "cell_type": "code",
      "source": [
        "pip install html-table-parser-python3"
      ],
      "metadata": {
        "colab": {
          "base_uri": "https://localhost:8080/"
        },
        "id": "UfORw1eVqgv_",
        "outputId": "8cc92e06-d589-4c5c-aa14-c513507d5780"
      },
      "execution_count": null,
      "outputs": [
        {
          "output_type": "stream",
          "name": "stdout",
          "text": [
            "Looking in indexes: https://pypi.org/simple, https://us-python.pkg.dev/colab-wheels/public/simple/\n",
            "Collecting html-table-parser-python3\n",
            "  Downloading html_table_parser_python3-0.2.0-py3-none-any.whl (15 kB)\n",
            "Installing collected packages: html-table-parser-python3\n",
            "Successfully installed html-table-parser-python3-0.2.0\n"
          ]
        }
      ]
    },
    {
      "cell_type": "code",
      "source": [
        "import urllib.request\n",
        "from html_table_parser.parser import HTMLTableParser"
      ],
      "metadata": {
        "id": "Ie6T5Bifqgy6"
      },
      "execution_count": null,
      "outputs": []
    },
    {
      "cell_type": "code",
      "source": [
        "url = \"https://coinmarketcap.com/currencies/chia-network/\""
      ],
      "metadata": {
        "id": "yqojJYpkqmhI"
      },
      "execution_count": null,
      "outputs": []
    },
    {
      "cell_type": "code",
      "source": [
        "headers = {\n",
        "    \"Accepts\" : \"application/json\",\n",
        "    \"X-CMC_PRO_API_KEY\" : \"a6d1d75d-838e-4f58-b307-6b50b8eb3f62\"\n",
        "}"
      ],
      "metadata": {
        "id": "TkDYUV75qmoX"
      },
      "execution_count": null,
      "outputs": []
    },
    {
      "cell_type": "code",
      "source": [
        "session = Session()\n",
        "session.headers.update(headers)\n",
        "response = session.get(url)"
      ],
      "metadata": {
        "id": "DFLfLyjQqpjS"
      },
      "execution_count": null,
      "outputs": []
    },
    {
      "cell_type": "code",
      "source": [
        "p = HTMLTableParser()\n",
        "p.feed(response.text)"
      ],
      "metadata": {
        "id": "PJAWHP1JqqD9"
      },
      "execution_count": null,
      "outputs": []
    },
    {
      "cell_type": "code",
      "source": [
        "df =[]\n",
        "for i in range(len(p.tables)):\n",
        "    df.append(pd.DataFrame(p.tables[i]))"
      ],
      "metadata": {
        "id": "6qywiD8pqqiW"
      },
      "execution_count": null,
      "outputs": []
    },
    {
      "cell_type": "code",
      "source": [
        "df[0]"
      ],
      "metadata": {
        "colab": {
          "base_uri": "https://localhost:8080/",
          "height": 269
        },
        "id": "RUyjt0KkrMwc",
        "outputId": "f083f3a1-4e88-4b4b-c87f-7191dc06572b"
      },
      "execution_count": null,
      "outputs": [
        {
          "output_type": "execute_result",
          "data": {
            "text/plain": [
              "                     0                     1\n",
              "0           Chia Price                $32.01\n",
              "1     Price Change 24h       + $0.1535 0.48%\n",
              "2   24h Low / 24h High       $31.35 / $32.05\n",
              "3   Trading Volume 24h  $5,430,651.83 12.74%\n",
              "4  Volume / Market Cap               0.03057\n",
              "5     Market Dominance                0.02 %\n",
              "6          Market Rank                  #154"
            ],
            "text/html": [
              "\n",
              "  <div id=\"df-08adbef5-3b35-45e1-a006-e696da020692\">\n",
              "    <div class=\"colab-df-container\">\n",
              "      <div>\n",
              "<style scoped>\n",
              "    .dataframe tbody tr th:only-of-type {\n",
              "        vertical-align: middle;\n",
              "    }\n",
              "\n",
              "    .dataframe tbody tr th {\n",
              "        vertical-align: top;\n",
              "    }\n",
              "\n",
              "    .dataframe thead th {\n",
              "        text-align: right;\n",
              "    }\n",
              "</style>\n",
              "<table border=\"1\" class=\"dataframe\">\n",
              "  <thead>\n",
              "    <tr style=\"text-align: right;\">\n",
              "      <th></th>\n",
              "      <th>0</th>\n",
              "      <th>1</th>\n",
              "    </tr>\n",
              "  </thead>\n",
              "  <tbody>\n",
              "    <tr>\n",
              "      <th>0</th>\n",
              "      <td>Chia Price</td>\n",
              "      <td>$32.01</td>\n",
              "    </tr>\n",
              "    <tr>\n",
              "      <th>1</th>\n",
              "      <td>Price Change 24h</td>\n",
              "      <td>+ $0.1535 0.48%</td>\n",
              "    </tr>\n",
              "    <tr>\n",
              "      <th>2</th>\n",
              "      <td>24h Low / 24h High</td>\n",
              "      <td>$31.35 / $32.05</td>\n",
              "    </tr>\n",
              "    <tr>\n",
              "      <th>3</th>\n",
              "      <td>Trading Volume 24h</td>\n",
              "      <td>$5,430,651.83 12.74%</td>\n",
              "    </tr>\n",
              "    <tr>\n",
              "      <th>4</th>\n",
              "      <td>Volume / Market Cap</td>\n",
              "      <td>0.03057</td>\n",
              "    </tr>\n",
              "    <tr>\n",
              "      <th>5</th>\n",
              "      <td>Market Dominance</td>\n",
              "      <td>0.02 %</td>\n",
              "    </tr>\n",
              "    <tr>\n",
              "      <th>6</th>\n",
              "      <td>Market Rank</td>\n",
              "      <td>#154</td>\n",
              "    </tr>\n",
              "  </tbody>\n",
              "</table>\n",
              "</div>\n",
              "      <button class=\"colab-df-convert\" onclick=\"convertToInteractive('df-08adbef5-3b35-45e1-a006-e696da020692')\"\n",
              "              title=\"Convert this dataframe to an interactive table.\"\n",
              "              style=\"display:none;\">\n",
              "        \n",
              "  <svg xmlns=\"http://www.w3.org/2000/svg\" height=\"24px\"viewBox=\"0 0 24 24\"\n",
              "       width=\"24px\">\n",
              "    <path d=\"M0 0h24v24H0V0z\" fill=\"none\"/>\n",
              "    <path d=\"M18.56 5.44l.94 2.06.94-2.06 2.06-.94-2.06-.94-.94-2.06-.94 2.06-2.06.94zm-11 1L8.5 8.5l.94-2.06 2.06-.94-2.06-.94L8.5 2.5l-.94 2.06-2.06.94zm10 10l.94 2.06.94-2.06 2.06-.94-2.06-.94-.94-2.06-.94 2.06-2.06.94z\"/><path d=\"M17.41 7.96l-1.37-1.37c-.4-.4-.92-.59-1.43-.59-.52 0-1.04.2-1.43.59L10.3 9.45l-7.72 7.72c-.78.78-.78 2.05 0 2.83L4 21.41c.39.39.9.59 1.41.59.51 0 1.02-.2 1.41-.59l7.78-7.78 2.81-2.81c.8-.78.8-2.07 0-2.86zM5.41 20L4 18.59l7.72-7.72 1.47 1.35L5.41 20z\"/>\n",
              "  </svg>\n",
              "      </button>\n",
              "      \n",
              "  <style>\n",
              "    .colab-df-container {\n",
              "      display:flex;\n",
              "      flex-wrap:wrap;\n",
              "      gap: 12px;\n",
              "    }\n",
              "\n",
              "    .colab-df-convert {\n",
              "      background-color: #E8F0FE;\n",
              "      border: none;\n",
              "      border-radius: 50%;\n",
              "      cursor: pointer;\n",
              "      display: none;\n",
              "      fill: #1967D2;\n",
              "      height: 32px;\n",
              "      padding: 0 0 0 0;\n",
              "      width: 32px;\n",
              "    }\n",
              "\n",
              "    .colab-df-convert:hover {\n",
              "      background-color: #E2EBFA;\n",
              "      box-shadow: 0px 1px 2px rgba(60, 64, 67, 0.3), 0px 1px 3px 1px rgba(60, 64, 67, 0.15);\n",
              "      fill: #174EA6;\n",
              "    }\n",
              "\n",
              "    [theme=dark] .colab-df-convert {\n",
              "      background-color: #3B4455;\n",
              "      fill: #D2E3FC;\n",
              "    }\n",
              "\n",
              "    [theme=dark] .colab-df-convert:hover {\n",
              "      background-color: #434B5C;\n",
              "      box-shadow: 0px 1px 3px 1px rgba(0, 0, 0, 0.15);\n",
              "      filter: drop-shadow(0px 1px 2px rgba(0, 0, 0, 0.3));\n",
              "      fill: #FFFFFF;\n",
              "    }\n",
              "  </style>\n",
              "\n",
              "      <script>\n",
              "        const buttonEl =\n",
              "          document.querySelector('#df-08adbef5-3b35-45e1-a006-e696da020692 button.colab-df-convert');\n",
              "        buttonEl.style.display =\n",
              "          google.colab.kernel.accessAllowed ? 'block' : 'none';\n",
              "\n",
              "        async function convertToInteractive(key) {\n",
              "          const element = document.querySelector('#df-08adbef5-3b35-45e1-a006-e696da020692');\n",
              "          const dataTable =\n",
              "            await google.colab.kernel.invokeFunction('convertToInteractive',\n",
              "                                                     [key], {});\n",
              "          if (!dataTable) return;\n",
              "\n",
              "          const docLinkHtml = 'Like what you see? Visit the ' +\n",
              "            '<a target=\"_blank\" href=https://colab.research.google.com/notebooks/data_table.ipynb>data table notebook</a>'\n",
              "            + ' to learn more about interactive tables.';\n",
              "          element.innerHTML = '';\n",
              "          dataTable['output_type'] = 'display_data';\n",
              "          await google.colab.output.renderOutput(dataTable, element);\n",
              "          const docLink = document.createElement('div');\n",
              "          docLink.innerHTML = docLinkHtml;\n",
              "          element.appendChild(docLink);\n",
              "        }\n",
              "      </script>\n",
              "    </div>\n",
              "  </div>\n",
              "  "
            ]
          },
          "metadata": {},
          "execution_count": 9
        }
      ]
    },
    {
      "cell_type": "code",
      "source": [
        "(df[0].values[1][1].split(' ')[0]+df[0].values[1][1].split(' ')[1].replace('$', '') if df[0].values[1][1].split(' ')[0] == '-' or df[0].values[1][1].split(' ')[0] == '+' else df[0].values[1][1].split(' ')[1].replace('$', ''))"
      ],
      "metadata": {
        "colab": {
          "base_uri": "https://localhost:8080/",
          "height": 35
        },
        "id": "4l_fRir0r4rV",
        "outputId": "617de259-ce8d-4b6b-f15b-c36b1174efb2"
      },
      "execution_count": null,
      "outputs": [
        {
          "output_type": "execute_result",
          "data": {
            "text/plain": [
              "'+0.1535'"
            ],
            "application/vnd.google.colaboratory.intrinsic+json": {
              "type": "string"
            }
          },
          "metadata": {},
          "execution_count": 10
        }
      ]
    },
    {
      "cell_type": "code",
      "source": [
        "df[0].values[1][1].split(' ')"
      ],
      "metadata": {
        "colab": {
          "base_uri": "https://localhost:8080/"
        },
        "id": "ZWV00VFTr125",
        "outputId": "a990c334-4ac0-48cc-e0a6-f92dbc7234a9"
      },
      "execution_count": null,
      "outputs": [
        {
          "output_type": "execute_result",
          "data": {
            "text/plain": [
              "['+', '$0.1535', '0.48%']"
            ]
          },
          "metadata": {},
          "execution_count": 11
        }
      ]
    },
    {
      "cell_type": "code",
      "source": [
        "df[0].values[1][1].split(' ')[1].replace('$', '')"
      ],
      "metadata": {
        "colab": {
          "base_uri": "https://localhost:8080/",
          "height": 35
        },
        "id": "YIfTmSyFr-dY",
        "outputId": "01d44aef-9fdc-4a9d-de96-6a13a1e5be9e"
      },
      "execution_count": null,
      "outputs": [
        {
          "output_type": "execute_result",
          "data": {
            "text/plain": [
              "'0.1535'"
            ],
            "application/vnd.google.colaboratory.intrinsic+json": {
              "type": "string"
            }
          },
          "metadata": {},
          "execution_count": 12
        }
      ]
    },
    {
      "cell_type": "code",
      "source": [
        "  \n",
        "c ={}\n",
        "c[df[0].values[0][0] ]= float(df[0].values[0][1].replace('$', ''))\n",
        "c[df[0].values[4][0].split('/')[1]+'(%)'] = float(df[1].values[0][1].split('.')[1][2:] + '.' + df[1].values[0][1].split('.')[2][:-1])\n",
        "c[df[0].values[4][0].split('/')[1]+'(in Dollar)' ]= float(df[1].values[0][1].split('.')[0][1:].replace(',', '')+ '.' +df[1].values[0][1].split('.')[1][:2])\n",
        "c[df[0].values[5][0]] = df[0].values[5][1]\n",
        "c[df[0].values[1][0][:-3] + '(in Dollar)']= float(df[0].values[1][1].split(' ')[0]+df[0].values[1][1].split(' ')[1].replace('$', '') if df[0].values[1][1].split(' ')[0] == '-'  or df[0].values[1][1].split(' ')[0] == '+' else df[0].values[1][1].split(' ')[1].replace('$', ''))\n",
        "c[df[0].values[1][0][:-3] + '(%)'] = df[0].values[1][1][-5:]\n",
        "c[df[0].values[2][0].split('/')[0] +'price']= float(df[0].values[2][1].split('/')[0][1:].replace(',', ''))\n",
        "c[df[0].values[2][0].split('/')[1] +'price']= float(df[0].values[2][1].split('/')[1][2:].replace(',', ''))\n",
        "c[df[0].values[3][0][:-3] + '(in Dollar)'] = float((df[0].values[3][1].split('.')[0][1:] + '.' + df[0].values[3][1].split('.')[1][:2]).replace(',', ''))\n",
        "c[df[0].values[3][0][:-3] + '(%)']= float(df[0].values[3][1].split('.')[1][2:] + '.' + df[0].values[3][1].split('.')[2][:-1])\n",
        "c[df[0].values[4][0].split('/')[0]]= df[0].values[4][1]\n",
        "c[df[2].values[0][0][:-6]]= float(df[2].values[0][1].split('/')[0][1:].replace(',', ''))\n",
        "c[df[2].values[0][0][:-10] + 'high']= float(df[2].values[0][1].split('/')[1][2:].replace(',', ''))\n",
        "c[df[2].values[2][0]]= df[2].values[2][1]\n",
        "c[df[0].values[6][0]]= int(df[0].values[6][1][1:])\n",
        "    "
      ],
      "metadata": {
        "id": "26q2yal4qqo5"
      },
      "execution_count": null,
      "outputs": []
    },
    {
      "cell_type": "code",
      "source": [
        "tf = pd.DataFrame.from_dict(c, orient='index').reset_index()"
      ],
      "metadata": {
        "id": "fR3UwWgzrJKc"
      },
      "execution_count": null,
      "outputs": []
    },
    {
      "cell_type": "code",
      "source": [
        "tf = tf.T\n",
        "tf.columns = tf.values[0,:]\n",
        "tf.drop('index', axis=0, inplace=True)\n",
        "tf.insert(loc=1, column='', value='')"
      ],
      "metadata": {
        "id": "SBThOKVxvGlA"
      },
      "execution_count": null,
      "outputs": []
    },
    {
      "cell_type": "code",
      "source": [
        "tf"
      ],
      "metadata": {
        "colab": {
          "base_uri": "https://localhost:8080/",
          "height": 159
        },
        "id": "KQBCFGhKvIYH",
        "outputId": "3745f95a-fe9a-4ec0-ec82-7ec4a5888e81"
      },
      "execution_count": null,
      "outputs": [
        {
          "output_type": "execute_result",
          "data": {
            "text/plain": [
              "  Chia Price    Market Cap(%)  Market Cap(in Dollar) Market Dominance  \\\n",
              "0      32.01             0.65           177672712.02           0.02 %   \n",
              "\n",
              "  Price Change (in Dollar) Price Change (%) 24h Low price  24h Highprice  \\\n",
              "0                   0.1535            0.48%         31.35          32.05   \n",
              "\n",
              "  Trading Volume (in Dollar) Trading Volume (%)  Volume  Yesterday s Low   \\\n",
              "0                 5430651.83              12.74  0.03057            31.35   \n",
              "\n",
              "  Yesterday s high Yesterday s Change Market Rank  \n",
              "0            31.99              0.77%         154  "
            ],
            "text/html": [
              "\n",
              "  <div id=\"df-19e9197d-9cf3-47db-8dfd-7c2fa2bd1ff7\">\n",
              "    <div class=\"colab-df-container\">\n",
              "      <div>\n",
              "<style scoped>\n",
              "    .dataframe tbody tr th:only-of-type {\n",
              "        vertical-align: middle;\n",
              "    }\n",
              "\n",
              "    .dataframe tbody tr th {\n",
              "        vertical-align: top;\n",
              "    }\n",
              "\n",
              "    .dataframe thead th {\n",
              "        text-align: right;\n",
              "    }\n",
              "</style>\n",
              "<table border=\"1\" class=\"dataframe\">\n",
              "  <thead>\n",
              "    <tr style=\"text-align: right;\">\n",
              "      <th></th>\n",
              "      <th>Chia Price</th>\n",
              "      <th></th>\n",
              "      <th>Market Cap(%)</th>\n",
              "      <th>Market Cap(in Dollar)</th>\n",
              "      <th>Market Dominance</th>\n",
              "      <th>Price Change (in Dollar)</th>\n",
              "      <th>Price Change (%)</th>\n",
              "      <th>24h Low price</th>\n",
              "      <th>24h Highprice</th>\n",
              "      <th>Trading Volume (in Dollar)</th>\n",
              "      <th>Trading Volume (%)</th>\n",
              "      <th>Volume</th>\n",
              "      <th>Yesterday s Low</th>\n",
              "      <th>Yesterday s high</th>\n",
              "      <th>Yesterday s Change</th>\n",
              "      <th>Market Rank</th>\n",
              "    </tr>\n",
              "  </thead>\n",
              "  <tbody>\n",
              "    <tr>\n",
              "      <th>0</th>\n",
              "      <td>32.01</td>\n",
              "      <td></td>\n",
              "      <td>0.65</td>\n",
              "      <td>177672712.02</td>\n",
              "      <td>0.02 %</td>\n",
              "      <td>0.1535</td>\n",
              "      <td>0.48%</td>\n",
              "      <td>31.35</td>\n",
              "      <td>32.05</td>\n",
              "      <td>5430651.83</td>\n",
              "      <td>12.74</td>\n",
              "      <td>0.03057</td>\n",
              "      <td>31.35</td>\n",
              "      <td>31.99</td>\n",
              "      <td>0.77%</td>\n",
              "      <td>154</td>\n",
              "    </tr>\n",
              "  </tbody>\n",
              "</table>\n",
              "</div>\n",
              "      <button class=\"colab-df-convert\" onclick=\"convertToInteractive('df-19e9197d-9cf3-47db-8dfd-7c2fa2bd1ff7')\"\n",
              "              title=\"Convert this dataframe to an interactive table.\"\n",
              "              style=\"display:none;\">\n",
              "        \n",
              "  <svg xmlns=\"http://www.w3.org/2000/svg\" height=\"24px\"viewBox=\"0 0 24 24\"\n",
              "       width=\"24px\">\n",
              "    <path d=\"M0 0h24v24H0V0z\" fill=\"none\"/>\n",
              "    <path d=\"M18.56 5.44l.94 2.06.94-2.06 2.06-.94-2.06-.94-.94-2.06-.94 2.06-2.06.94zm-11 1L8.5 8.5l.94-2.06 2.06-.94-2.06-.94L8.5 2.5l-.94 2.06-2.06.94zm10 10l.94 2.06.94-2.06 2.06-.94-2.06-.94-.94-2.06-.94 2.06-2.06.94z\"/><path d=\"M17.41 7.96l-1.37-1.37c-.4-.4-.92-.59-1.43-.59-.52 0-1.04.2-1.43.59L10.3 9.45l-7.72 7.72c-.78.78-.78 2.05 0 2.83L4 21.41c.39.39.9.59 1.41.59.51 0 1.02-.2 1.41-.59l7.78-7.78 2.81-2.81c.8-.78.8-2.07 0-2.86zM5.41 20L4 18.59l7.72-7.72 1.47 1.35L5.41 20z\"/>\n",
              "  </svg>\n",
              "      </button>\n",
              "      \n",
              "  <style>\n",
              "    .colab-df-container {\n",
              "      display:flex;\n",
              "      flex-wrap:wrap;\n",
              "      gap: 12px;\n",
              "    }\n",
              "\n",
              "    .colab-df-convert {\n",
              "      background-color: #E8F0FE;\n",
              "      border: none;\n",
              "      border-radius: 50%;\n",
              "      cursor: pointer;\n",
              "      display: none;\n",
              "      fill: #1967D2;\n",
              "      height: 32px;\n",
              "      padding: 0 0 0 0;\n",
              "      width: 32px;\n",
              "    }\n",
              "\n",
              "    .colab-df-convert:hover {\n",
              "      background-color: #E2EBFA;\n",
              "      box-shadow: 0px 1px 2px rgba(60, 64, 67, 0.3), 0px 1px 3px 1px rgba(60, 64, 67, 0.15);\n",
              "      fill: #174EA6;\n",
              "    }\n",
              "\n",
              "    [theme=dark] .colab-df-convert {\n",
              "      background-color: #3B4455;\n",
              "      fill: #D2E3FC;\n",
              "    }\n",
              "\n",
              "    [theme=dark] .colab-df-convert:hover {\n",
              "      background-color: #434B5C;\n",
              "      box-shadow: 0px 1px 3px 1px rgba(0, 0, 0, 0.15);\n",
              "      filter: drop-shadow(0px 1px 2px rgba(0, 0, 0, 0.3));\n",
              "      fill: #FFFFFF;\n",
              "    }\n",
              "  </style>\n",
              "\n",
              "      <script>\n",
              "        const buttonEl =\n",
              "          document.querySelector('#df-19e9197d-9cf3-47db-8dfd-7c2fa2bd1ff7 button.colab-df-convert');\n",
              "        buttonEl.style.display =\n",
              "          google.colab.kernel.accessAllowed ? 'block' : 'none';\n",
              "\n",
              "        async function convertToInteractive(key) {\n",
              "          const element = document.querySelector('#df-19e9197d-9cf3-47db-8dfd-7c2fa2bd1ff7');\n",
              "          const dataTable =\n",
              "            await google.colab.kernel.invokeFunction('convertToInteractive',\n",
              "                                                     [key], {});\n",
              "          if (!dataTable) return;\n",
              "\n",
              "          const docLinkHtml = 'Like what you see? Visit the ' +\n",
              "            '<a target=\"_blank\" href=https://colab.research.google.com/notebooks/data_table.ipynb>data table notebook</a>'\n",
              "            + ' to learn more about interactive tables.';\n",
              "          element.innerHTML = '';\n",
              "          dataTable['output_type'] = 'display_data';\n",
              "          await google.colab.output.renderOutput(dataTable, element);\n",
              "          const docLink = document.createElement('div');\n",
              "          docLink.innerHTML = docLinkHtml;\n",
              "          element.appendChild(docLink);\n",
              "        }\n",
              "      </script>\n",
              "    </div>\n",
              "  </div>\n",
              "  "
            ]
          },
          "metadata": {},
          "execution_count": 16
        }
      ]
    },
    {
      "cell_type": "code",
      "source": [
        "with pd.ExcelWriter('agraj.xlsx') as writer:\n",
        "    tf.to_excel(writer, sheet_name='sheet1', index=False, startrow=2 , startcol=2)"
      ],
      "metadata": {
        "id": "6QRyRny1vJtq"
      },
      "execution_count": null,
      "outputs": []
    },
    {
      "cell_type": "code",
      "source": [
        "\n",
        "\n",
        "\n",
        "import time "
      ],
      "metadata": {
        "id": "2LG87lxAqquY"
      },
      "execution_count": null,
      "outputs": []
    },
    {
      "cell_type": "code",
      "source": [
        "while True:\n",
        "    print('h')\n",
        "    time.sleep(3)    "
      ],
      "metadata": {
        "colab": {
          "base_uri": "https://localhost:8080/",
          "height": 634
        },
        "id": "iLmsWo9TmkST",
        "outputId": "ae00dc24-2af3-4a94-f7cc-834f460ef3d6"
      },
      "execution_count": null,
      "outputs": [
        {
          "output_type": "stream",
          "name": "stdout",
          "text": [
            "h\n",
            "h\n",
            "h\n",
            "h\n",
            "h\n",
            "h\n",
            "h\n",
            "h\n",
            "h\n",
            "h\n",
            "h\n",
            "h\n",
            "h\n",
            "h\n",
            "h\n",
            "h\n",
            "h\n",
            "h\n",
            "h\n",
            "h\n",
            "h\n",
            "h\n",
            "h\n",
            "h\n",
            "h\n"
          ]
        },
        {
          "output_type": "error",
          "ename": "KeyboardInterrupt",
          "evalue": "ignored",
          "traceback": [
            "\u001b[0;31m---------------------------------------------------------------------------\u001b[0m",
            "\u001b[0;31mKeyboardInterrupt\u001b[0m                         Traceback (most recent call last)",
            "\u001b[0;32m<ipython-input-4-56818149e176>\u001b[0m in \u001b[0;36m<module>\u001b[0;34m\u001b[0m\n\u001b[1;32m      1\u001b[0m \u001b[0;32mwhile\u001b[0m \u001b[0;32mTrue\u001b[0m\u001b[0;34m:\u001b[0m\u001b[0;34m\u001b[0m\u001b[0;34m\u001b[0m\u001b[0m\n\u001b[1;32m      2\u001b[0m     \u001b[0mprint\u001b[0m\u001b[0;34m(\u001b[0m\u001b[0;34m'h'\u001b[0m\u001b[0;34m)\u001b[0m\u001b[0;34m\u001b[0m\u001b[0;34m\u001b[0m\u001b[0m\n\u001b[0;32m----> 3\u001b[0;31m     \u001b[0mtime\u001b[0m\u001b[0;34m.\u001b[0m\u001b[0msleep\u001b[0m\u001b[0;34m(\u001b[0m\u001b[0;36m3\u001b[0m\u001b[0;34m)\u001b[0m\u001b[0;34m\u001b[0m\u001b[0;34m\u001b[0m\u001b[0m\n\u001b[0m",
            "\u001b[0;31mKeyboardInterrupt\u001b[0m: "
          ]
        }
      ]
    }
  ]
}